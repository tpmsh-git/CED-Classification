{
 "cells": [
  {
   "cell_type": "code",
   "execution_count": 1,
   "id": "0ed7d099",
   "metadata": {},
   "outputs": [],
   "source": [
    "import numpy as np\n",
    "import pandas as pd\n",
    "import matplotlib.pyplot as plt\n",
    "%matplotlib inline \n",
    "#sets the backend of matplotlib to the 'inline' backend"
   ]
  },
  {
   "cell_type": "markdown",
   "id": "a4484471",
   "metadata": {},
   "source": [
    "Data is downloaded from https://archive.ics.uci.edu/ml/datasets/Car+Evaluation and converted to car_data.xlsx"
   ]
  },
  {
   "cell_type": "code",
   "execution_count": 2,
   "id": "916547be",
   "metadata": {},
   "outputs": [],
   "source": [
    "data = pd.read_excel(\"data/processed/car_data.xlsx\")"
   ]
  },
  {
   "cell_type": "markdown",
   "id": "73d50cd2",
   "metadata": {},
   "source": [
    "## Exploratory Data Analysis(EDA)"
   ]
  },
  {
   "cell_type": "code",
   "execution_count": 3,
   "id": "2d6ac1ee",
   "metadata": {},
   "outputs": [
    {
     "data": {
      "text/html": [
       "<div>\n",
       "<style scoped>\n",
       "    .dataframe tbody tr th:only-of-type {\n",
       "        vertical-align: middle;\n",
       "    }\n",
       "\n",
       "    .dataframe tbody tr th {\n",
       "        vertical-align: top;\n",
       "    }\n",
       "\n",
       "    .dataframe thead th {\n",
       "        text-align: right;\n",
       "    }\n",
       "</style>\n",
       "<table border=\"1\" class=\"dataframe\">\n",
       "  <thead>\n",
       "    <tr style=\"text-align: right;\">\n",
       "      <th></th>\n",
       "      <th>buying</th>\n",
       "      <th>maint</th>\n",
       "      <th>doors</th>\n",
       "      <th>persons</th>\n",
       "      <th>lug_boot</th>\n",
       "      <th>safety</th>\n",
       "      <th>class</th>\n",
       "    </tr>\n",
       "  </thead>\n",
       "  <tbody>\n",
       "    <tr>\n",
       "      <th>0</th>\n",
       "      <td>vhigh</td>\n",
       "      <td>vhigh</td>\n",
       "      <td>2</td>\n",
       "      <td>2</td>\n",
       "      <td>small</td>\n",
       "      <td>low</td>\n",
       "      <td>unacc</td>\n",
       "    </tr>\n",
       "    <tr>\n",
       "      <th>1</th>\n",
       "      <td>vhigh</td>\n",
       "      <td>vhigh</td>\n",
       "      <td>2</td>\n",
       "      <td>2</td>\n",
       "      <td>small</td>\n",
       "      <td>med</td>\n",
       "      <td>unacc</td>\n",
       "    </tr>\n",
       "    <tr>\n",
       "      <th>2</th>\n",
       "      <td>vhigh</td>\n",
       "      <td>vhigh</td>\n",
       "      <td>2</td>\n",
       "      <td>2</td>\n",
       "      <td>small</td>\n",
       "      <td>high</td>\n",
       "      <td>unacc</td>\n",
       "    </tr>\n",
       "    <tr>\n",
       "      <th>3</th>\n",
       "      <td>vhigh</td>\n",
       "      <td>vhigh</td>\n",
       "      <td>2</td>\n",
       "      <td>2</td>\n",
       "      <td>med</td>\n",
       "      <td>low</td>\n",
       "      <td>unacc</td>\n",
       "    </tr>\n",
       "    <tr>\n",
       "      <th>4</th>\n",
       "      <td>vhigh</td>\n",
       "      <td>vhigh</td>\n",
       "      <td>2</td>\n",
       "      <td>2</td>\n",
       "      <td>med</td>\n",
       "      <td>med</td>\n",
       "      <td>unacc</td>\n",
       "    </tr>\n",
       "  </tbody>\n",
       "</table>\n",
       "</div>"
      ],
      "text/plain": [
       "  buying  maint doors persons lug_boot safety  class\n",
       "0  vhigh  vhigh     2       2    small    low  unacc\n",
       "1  vhigh  vhigh     2       2    small    med  unacc\n",
       "2  vhigh  vhigh     2       2    small   high  unacc\n",
       "3  vhigh  vhigh     2       2      med    low  unacc\n",
       "4  vhigh  vhigh     2       2      med    med  unacc"
      ]
     },
     "execution_count": 3,
     "metadata": {},
     "output_type": "execute_result"
    }
   ],
   "source": [
    "data.head()"
   ]
  },
  {
   "cell_type": "code",
   "execution_count": 4,
   "id": "2c776991",
   "metadata": {},
   "outputs": [
    {
     "name": "stdout",
     "output_type": "stream",
     "text": [
      "<class 'pandas.core.frame.DataFrame'>\n",
      "RangeIndex: 1728 entries, 0 to 1727\n",
      "Data columns (total 7 columns):\n",
      " #   Column    Non-Null Count  Dtype \n",
      "---  ------    --------------  ----- \n",
      " 0   buying    1728 non-null   object\n",
      " 1   maint     1728 non-null   object\n",
      " 2   doors     1728 non-null   object\n",
      " 3   persons   1728 non-null   object\n",
      " 4   lug_boot  1728 non-null   object\n",
      " 5   safety    1728 non-null   object\n",
      " 6   class     1728 non-null   object\n",
      "dtypes: object(7)\n",
      "memory usage: 94.6+ KB\n"
     ]
    }
   ],
   "source": [
    "data.info() # Check for null values"
   ]
  },
  {
   "cell_type": "code",
   "execution_count": 5,
   "id": "4977455b",
   "metadata": {},
   "outputs": [],
   "source": [
    "class_names = set(data['class'])"
   ]
  },
  {
   "cell_type": "code",
   "execution_count": 6,
   "id": "12e3f426",
   "metadata": {},
   "outputs": [
    {
     "name": "stdout",
     "output_type": "stream",
     "text": [
      "4\t['vhigh' 'high' 'med' 'low']\n",
      "4\t['vhigh' 'high' 'med' 'low']\n",
      "4\t['2' '3' '4' '5more']\n",
      "3\t['2' '4' 'more']\n",
      "3\t['small' 'med' 'big']\n",
      "3\t['low' 'med' 'high']\n",
      "4\t['unacc' 'acc' 'vgood' 'good']\n"
     ]
    }
   ],
   "source": [
    "# check for unique values of each column\n",
    "for i in data.columns:\n",
    "    print(f'{data[i].nunique()}\\t{data[i].unique()}')"
   ]
  },
  {
   "cell_type": "markdown",
   "id": "c956055d",
   "metadata": {},
   "source": [
    "Converted string values to integers to make them compatible with scikit learn"
   ]
  },
  {
   "cell_type": "code",
   "execution_count": 7,
   "id": "0543a674",
   "metadata": {
    "scrolled": true
   },
   "outputs": [
    {
     "data": {
      "text/html": [
       "<div>\n",
       "<style scoped>\n",
       "    .dataframe tbody tr th:only-of-type {\n",
       "        vertical-align: middle;\n",
       "    }\n",
       "\n",
       "    .dataframe tbody tr th {\n",
       "        vertical-align: top;\n",
       "    }\n",
       "\n",
       "    .dataframe thead th {\n",
       "        text-align: right;\n",
       "    }\n",
       "</style>\n",
       "<table border=\"1\" class=\"dataframe\">\n",
       "  <thead>\n",
       "    <tr style=\"text-align: right;\">\n",
       "      <th></th>\n",
       "      <th>buying</th>\n",
       "      <th>maint</th>\n",
       "      <th>doors</th>\n",
       "      <th>persons</th>\n",
       "      <th>lug_boot</th>\n",
       "      <th>safety</th>\n",
       "      <th>class</th>\n",
       "    </tr>\n",
       "  </thead>\n",
       "  <tbody>\n",
       "    <tr>\n",
       "      <th>0</th>\n",
       "      <td>3</td>\n",
       "      <td>3</td>\n",
       "      <td>0</td>\n",
       "      <td>0</td>\n",
       "      <td>2</td>\n",
       "      <td>1</td>\n",
       "      <td>2</td>\n",
       "    </tr>\n",
       "    <tr>\n",
       "      <th>1</th>\n",
       "      <td>3</td>\n",
       "      <td>3</td>\n",
       "      <td>0</td>\n",
       "      <td>0</td>\n",
       "      <td>2</td>\n",
       "      <td>2</td>\n",
       "      <td>2</td>\n",
       "    </tr>\n",
       "    <tr>\n",
       "      <th>2</th>\n",
       "      <td>3</td>\n",
       "      <td>3</td>\n",
       "      <td>0</td>\n",
       "      <td>0</td>\n",
       "      <td>2</td>\n",
       "      <td>0</td>\n",
       "      <td>2</td>\n",
       "    </tr>\n",
       "    <tr>\n",
       "      <th>3</th>\n",
       "      <td>3</td>\n",
       "      <td>3</td>\n",
       "      <td>0</td>\n",
       "      <td>0</td>\n",
       "      <td>1</td>\n",
       "      <td>1</td>\n",
       "      <td>2</td>\n",
       "    </tr>\n",
       "    <tr>\n",
       "      <th>4</th>\n",
       "      <td>3</td>\n",
       "      <td>3</td>\n",
       "      <td>0</td>\n",
       "      <td>0</td>\n",
       "      <td>1</td>\n",
       "      <td>2</td>\n",
       "      <td>2</td>\n",
       "    </tr>\n",
       "  </tbody>\n",
       "</table>\n",
       "</div>"
      ],
      "text/plain": [
       "   buying  maint  doors  persons  lug_boot  safety  class\n",
       "0       3      3      0        0         2       1      2\n",
       "1       3      3      0        0         2       2      2\n",
       "2       3      3      0        0         2       0      2\n",
       "3       3      3      0        0         1       1      2\n",
       "4       3      3      0        0         1       2      2"
      ]
     },
     "execution_count": 7,
     "metadata": {},
     "output_type": "execute_result"
    }
   ],
   "source": [
    "from sklearn.preprocessing import LabelEncoder\n",
    "le = LabelEncoder()\n",
    "for i in data.columns:\n",
    "    data[i] = le.fit_transform(data[i])\n",
    "data.head()"
   ]
  },
  {
   "cell_type": "markdown",
   "id": "5738bbb1",
   "metadata": {},
   "source": [
    "### Splitting data into training and testing set"
   ]
  },
  {
   "cell_type": "code",
   "execution_count": 8,
   "id": "a7c58d21",
   "metadata": {},
   "outputs": [],
   "source": [
    "Y = data['class']  # actual output\n",
    "X = data[data.columns[:-1]]  # input data features\n",
    "data, target = X, Y\n",
    "from sklearn.model_selection import train_test_split as SPLIT\n",
    "X_train, X_test, Y_train, Y_test = SPLIT(X, Y, test_size=0.3, random_state=4)\n",
    "# 70% Data for Training, 30% Data for Testing"
   ]
  },
  {
   "cell_type": "markdown",
   "id": "e3c599b8",
   "metadata": {},
   "source": [
    "### Scale the Data"
   ]
  },
  {
   "cell_type": "code",
   "execution_count": 9,
   "id": "9d320355",
   "metadata": {},
   "outputs": [],
   "source": [
    "from sklearn.preprocessing import StandardScaler as SS\n",
    "\n",
    "X = SS().fit_transform(X)"
   ]
  },
  {
   "cell_type": "markdown",
   "id": "d97f0eba",
   "metadata": {},
   "source": [
    "## Train the Support Vector Classifier"
   ]
  },
  {
   "cell_type": "code",
   "execution_count": 10,
   "id": "9942ef11",
   "metadata": {},
   "outputs": [
    {
     "name": "stdout",
     "output_type": "stream",
     "text": [
      "Score against Testing Data: 99.422%\n",
      "Model took 146.998ms to train\n"
     ]
    }
   ],
   "source": [
    "from sklearn.svm import SVC\n",
    "\n",
    "# Hyperparameters\n",
    "kernel = 'rbf'\n",
    "C = 13\n",
    "gamma = 0.325\n",
    "\n",
    "from time import time as T\n",
    "start = T()\n",
    "model = SVC(kernel=kernel, C=C, gamma=gamma)\n",
    "clf = model.fit(X_train, Y_train)\n",
    "end = T()\n",
    "\n",
    "pred = clf.predict(X_test)\n",
    "mScore = clf.score(X_test, Y_test)\n",
    "print(f'Score against Testing Data: {mScore * 100:.3f}%')\n",
    "print(f'Model took {(end-start)*1000:.3f}ms to train')"
   ]
  },
  {
   "cell_type": "markdown",
   "id": "5630787f",
   "metadata": {},
   "source": [
    "### Generate Classification Report"
   ]
  },
  {
   "cell_type": "code",
   "execution_count": 11,
   "id": "4e8e0d50",
   "metadata": {},
   "outputs": [
    {
     "name": "stdout",
     "output_type": "stream",
     "text": [
      "Classification Report:\n",
      "               precision    recall  f1-score   support\n",
      "\n",
      "           0       0.97      1.00      0.99       117\n",
      "           1       1.00      1.00      1.00        17\n",
      "           2       1.00      1.00      1.00       368\n",
      "           3       1.00      0.82      0.90        17\n",
      "\n",
      "    accuracy                           0.99       519\n",
      "   macro avg       0.99      0.96      0.97       519\n",
      "weighted avg       0.99      0.99      0.99       519\n",
      "\n"
     ]
    }
   ],
   "source": [
    "from sklearn.metrics import classification_report as CR\n",
    "\n",
    "print(\"Classification Report:\\n\",CR(Y_test, pred, zero_division=0))"
   ]
  },
  {
   "cell_type": "markdown",
   "id": "0cfa1375",
   "metadata": {},
   "source": [
    "### Cross Validation"
   ]
  },
  {
   "cell_type": "code",
   "execution_count": 12,
   "id": "f6b26506",
   "metadata": {},
   "outputs": [
    {
     "name": "stdout",
     "output_type": "stream",
     "text": [
      "SVC has mean accuracy of 99.942%\n",
      "Cross Validation took 1037.988ms\n"
     ]
    }
   ],
   "source": [
    "from sklearn.model_selection import StratifiedKFold as SKF\n",
    "from sklearn.model_selection import cross_val_score as CVS\n",
    "\n",
    "model = SVC(kernel='rbf', C=13, gamma=0.325)\n",
    "folds = 5\n",
    "\n",
    "start = T()\n",
    "cross_val = SKF(n_splits=folds, shuffle=True, random_state=4)\n",
    "scores = CVS(model, X, Y, scoring='accuracy', cv=cross_val)\n",
    "end = T()\n",
    "\n",
    "accuracy = scores.mean() * 100\n",
    "print(f\"SVC has mean accuracy of {accuracy:.3f}%\\n\"\n",
    "    + f\"Cross Validation took {(end-start)*1000:.3f}ms\")"
   ]
  },
  {
   "cell_type": "markdown",
   "id": "8affcc45",
   "metadata": {},
   "source": [
    "### Calculate F1-Score of the model"
   ]
  },
  {
   "cell_type": "code",
   "execution_count": 13,
   "id": "280a77e4",
   "metadata": {},
   "outputs": [
    {
     "name": "stdout",
     "output_type": "stream",
     "text": [
      "SVC has F1-Score = 99.398%\n"
     ]
    }
   ],
   "source": [
    "from sklearn.metrics import f1_score as F1\n",
    "\n",
    "f1score = F1(Y_test, pred, average = 'weighted')\n",
    "print(f\"SVC has F1-Score = {f1score * 100:.3f}%\")"
   ]
  },
  {
   "cell_type": "markdown",
   "id": "53807f54",
   "metadata": {},
   "source": [
    "### Plot Confusion Matrix"
   ]
  },
  {
   "cell_type": "code",
   "execution_count": 14,
   "id": "60056476",
   "metadata": {},
   "outputs": [
    {
     "data": {
      "image/png": "[encoded data removed]",
      "text/plain": [
       "<Figure size 432x288 with 2 Axes>"
      ]
     },
     "metadata": {
      "needs_background": "light"
     },
     "output_type": "display_data"
    }
   ],
   "source": [
    "from sklearn.metrics import plot_confusion_matrix as PCM\n",
    "PCM(clf, X_test, Y_test);"
   ]
  }
 ],
 "metadata": {
  "kernelspec": {
   "display_name": "Python 3",
   "language": "python",
   "name": "python3"
  },
  "language_info": {
   "codemirror_mode": {
    "name": "ipython",
    "version": 3
   },
   "file_extension": ".py",
   "mimetype": "text/x-python",
   "name": "python",
   "nbconvert_exporter": "python",
   "pygments_lexer": "ipython3",
   "version": "3.8.8"
  }
 },
 "nbformat": 4,
 "nbformat_minor": 5
}
